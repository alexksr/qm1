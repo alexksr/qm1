{
 "cells": [
  {
   "cell_type": "code",
   "execution_count": null,
   "metadata": {},
   "outputs": [],
   "source": [
    "from qm1.grid import *\n",
    "from qm1.operators import *\n",
    "from qm1.qmsystem import *  \n",
    "\n",
    "# set up a grid (with vanishing boundary conditions)\n",
    "grid = UniformGrid(boundary_condition=\"vanishing\", xmin=-15., xmax=15., num=150)\n",
    "\n",
    "# set time domain/view\n",
    "tgrid=np.linspace(0., 20., 500)\n",
    "\n",
    "# define potentials to use\n",
    "stat_pot = lambda x: 0.+1j if -10 <= x <= -8 else 0.+0j#(-.1j if 8 <= x <= 10 else 0)\n",
    "td_pot = lambda t, x: 0.+0.j\n",
    "# set the quantum mechanical system\n",
    "qsys = QMSystem(grid=grid, stat_pot=stat_pot, td_pot=td_pot, mass=1.)"
   ]
  },
  {
   "cell_type": "code",
   "execution_count": null,
   "metadata": {},
   "outputs": [],
   "source": [
    "from qm1.operators import *\n",
    "\n",
    "# identitiy operator (norm)\n",
    "op_identity = IdentityOp(qsys.grid)\n",
    "\n",
    "# hamilton operator\n",
    "op_hamilton = HamiltonOp(qsys)\n",
    "\n",
    "# return the rhs of the schrödinger equation, when lhs is only the time derivative, rhs = i hbar H\n",
    "op_evolution = op_hamilton * (-1j)\n"
   ]
  },
  {
   "cell_type": "code",
   "execution_count": null,
   "metadata": {},
   "outputs": [],
   "source": [
    "from IPython.display import HTML, display\n",
    "import matplotlib as mpl\n",
    "mpl.rcParams['animation.embed_limit'] = 200  # MB\n",
    "# show the operators\n",
    "if False:\n",
    "  op_full_pot = OperatorTD(qsys.grid, qsys.full_pot)\n",
    "  anim_full_pot = op_full_pot.show(tgrid=tgrid, file='mwe_sourcedrain_op_full_potential.mp4')\n",
    "  anim_hamiltonian = op_hamilton.show(tgrid=tgrid, file='mwe_sourcedrain_op_hamilton.gif')\n",
    "# Display the animation in the jupyter notebook\n",
    "try: HTML(anim_full_pot.to_jshtml())\n",
    "except: pass\n",
    "try: HTML(anim_hamiltonian.to_jshtml())\n",
    "except: pass"
   ]
  },
  {
   "cell_type": "code",
   "execution_count": null,
   "metadata": {},
   "outputs": [],
   "source": [
    "from qm1.wavefunction import GaussianWavePackage\n",
    "from qm1.eigensystem import Eigensystem\n",
    "\n",
    "if True:\n",
    "  # either choose a eigenstate as initial wf\n",
    "  eigsys = Eigensystem(num=5, operator=op_hamilton.eval(0))\n",
    "  eigsys.show(file='mwe_sourcedrain_eigsys.png')\n",
    "  init_wf = eigsys.eigstates[0]\n",
    "  print(eigsys.eigvals)\n",
    "else:\n",
    "  # or any other wave func\n",
    "  init_wf = GaussianWavePackage(qsys.grid, mu=4, sigma=10, k=.1)\n",
    "\n",
    "init_wf.show(file='mwe_sourcedrain_init_wavefunc.png', absphase=True)\n",
    "print(init_wf.func)"
   ]
  },
  {
   "cell_type": "code",
   "execution_count": null,
   "metadata": {},
   "outputs": [],
   "source": [
    "tdwf = init_wf.evolve(tgrid, op_evolution)\n",
    "\n",
    "# wf = Wavefunction()\n",
    "# for wf in tdwf.wflist:\n",
    "  # print(wf.expectation_value(op_identity))"
   ]
  },
  {
   "cell_type": "code",
   "execution_count": null,
   "metadata": {},
   "outputs": [],
   "source": [
    "%load_ext autoreload\n",
    "%autoreload 2\n",
    "ani = tdwf.show(tgrid=tgrid, pot=qsys.full_pot, file='mwe_sourcedrain_wavefunc.gif')\n",
    "if False: display(HTML(ani.to_jshtml()))"
   ]
  }
 ],
 "metadata": {
  "kernelspec": {
   "display_name": "Python 3.8.0 64-bit",
   "language": "python",
   "name": "python3"
  },
  "language_info": {
   "codemirror_mode": {
    "name": "ipython",
    "version": 3
   },
   "file_extension": ".py",
   "mimetype": "text/x-python",
   "name": "python",
   "nbconvert_exporter": "python",
   "pygments_lexer": "ipython3",
   "version": "3.8.0"
  },
  "vscode": {
   "interpreter": {
    "hash": "df0893f56f349688326838aaeea0de204df53a132722cbd565e54b24a8fec5f6"
   }
  }
 },
 "nbformat": 4,
 "nbformat_minor": 2
}
