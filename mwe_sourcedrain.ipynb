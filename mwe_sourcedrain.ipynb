{
 "cells": [
  {
   "cell_type": "code",
   "execution_count": 1,
   "metadata": {},
   "outputs": [],
   "source": [
    "from qm1.grid import *\n",
    "from qm1.operators import *\n",
    "from qm1.qmsystem import *  \n",
    "\n",
    "# set up a grid (with vanishing boundary conditions)\n",
    "grid = UniformGrid(boundary_condition=\"vanishing\", xmin=-15., xmax=15., num=150)\n",
    "\n",
    "# set time domain/view\n",
    "tgrid=np.linspace(0., 20., 500)\n",
    "\n",
    "# define potentials to use\n",
    "stat_pot = lambda x: return 0.+1j if -10 <= x <= -8 else 0.+0j#(-.1j if 8 <= x <= 10 else 0)\n",
    "td_pot = lambda t, x: return 0.+0.j\n",
    "# set the quantum mechanical system\n",
    "qsys = QMSystem(grid=grid, stat_pot=stat_pot, td_pot=td_pot, mass=1.)"
   ]
  },
  {
   "cell_type": "code",
   "execution_count": 2,
   "metadata": {},
   "outputs": [
    {
     "name": "stderr",
     "output_type": "stream",
     "text": [
      "/home/ak/.local/lib/python3.8/site-packages/scipy/sparse/_lil.py:327: ComplexWarning: Casting complex values to real discards the imaginary part\n",
      "  x = self.dtype.type(x)\n"
     ]
    }
   ],
   "source": [
    "from qm1.operators import *\n",
    "\n",
    "# identitiy operator (norm)\n",
    "op_identity = IdentityOp(qsys.grid)\n",
    "\n",
    "# hamilton operator\n",
    "op_hamilton = HamiltonOp(qsys)\n",
    "\n",
    "# return the rhs of the schrödinger equation, when lhs is only the time derivative, rhs = i hbar H\n",
    "op_evolution = op_hamilton * (-1j)\n"
   ]
  },
  {
   "cell_type": "code",
   "execution_count": 3,
   "metadata": {},
   "outputs": [],
   "source": [
    "from IPython.display import HTML, display\n",
    "import matplotlib as mpl\n",
    "mpl.rcParams['animation.embed_limit'] = 200  # MB\n",
    "# show the operators\n",
    "if False:\n",
    "  op_full_pot = OperatorTD(qsys.grid, qsys.full_pot)\n",
    "  anim_full_pot = op_full_pot.show(tgrid=tgrid, file='mwe_sourcedrain_op_full_potential.mp4')\n",
    "  anim_hamiltonian = op_hamilton.show(tgrid=tgrid, file='mwe_sourcedrain_op_hamilton.gif')\n",
    "# Display the animation in the jupyter notebook\n",
    "try: HTML(anim_full_pot.to_jshtml())\n",
    "except: pass\n",
    "try: HTML(anim_hamiltonian.to_jshtml())\n",
    "except: pass"
   ]
  },
  {
   "cell_type": "code",
   "execution_count": 4,
   "metadata": {},
   "outputs": [
    {
     "name": "stderr",
     "output_type": "stream",
     "text": [
      "/home/ak/.local/lib/python3.8/site-packages/scipy/sparse/_lil.py:327: ComplexWarning: Casting complex values to real discards the imaginary part\n",
      "  x = self.dtype.type(x)\n"
     ]
    },
    {
     "name": "stdout",
     "output_type": "stream",
     "text": [
      "self.sparse_mat [[  0.    0.    0.  ...   0.    0.    0. ]\n",
      " [-12.5  25.  -12.5 ...   0.    0.    0. ]\n",
      " [  0.  -12.5  25.  ...   0.    0.    0. ]\n",
      " ...\n",
      " [  0.    0.    0.  ...  25.  -12.5   0. ]\n",
      " [  0.    0.    0.  ... -12.5  25.  -12.5]\n",
      " [  0.    0.    0.  ...   0.    0.    0. ]]\n",
      "[0.005556753509546965, 0.022224543837428484, 0.04999596147943482, 0.08885866092179454, 0.13879536612916019]\n",
      "[ 0.         -0.00546183 -0.01092123 -0.01637578 -0.02182305 -0.02726062\n",
      " -0.03268607 -0.03809699 -0.04349097 -0.04886562 -0.05421855 -0.05954737\n",
      " -0.06484973 -0.07012325 -0.0753656  -0.08057445 -0.08574748 -0.0908824\n",
      " -0.09597691 -0.10102875 -0.10603569 -0.11099549 -0.11590594 -0.12076487\n",
      " -0.12557012 -0.13031954 -0.13501104 -0.13964251 -0.14421191 -0.1487172\n",
      " -0.15315638 -0.15752748 -0.16182854 -0.16605767 -0.17021298 -0.17429262\n",
      " -0.17829479 -0.18221769 -0.18605959 -0.18981878 -0.19349359 -0.19708238\n",
      " -0.20058356 -0.20399557 -0.2073169  -0.21054607 -0.21368164 -0.21672222\n",
      " -0.21966646 -0.22251305 -0.22526073 -0.22790826 -0.23045448 -0.23289826\n",
      " -0.2352385  -0.23747417 -0.23960427 -0.24162786 -0.24354404 -0.24535195\n",
      " -0.24705079 -0.24863981 -0.2501183  -0.25148559 -0.2527411  -0.25388425\n",
      " -0.25491454 -0.25583151 -0.25663475 -0.25732391 -0.25789867 -0.25835879\n",
      " -0.25870406 -0.25893433 -0.25904948 -0.25904948 -0.25893433 -0.25870406\n",
      " -0.25835879 -0.25789867 -0.25732391 -0.25663475 -0.25583151 -0.25491454\n",
      " -0.25388425 -0.2527411  -0.25148559 -0.2501183  -0.24863981 -0.24705079\n",
      " -0.24535195 -0.24354404 -0.24162786 -0.23960427 -0.23747417 -0.2352385\n",
      " -0.23289826 -0.23045448 -0.22790826 -0.22526073 -0.22251305 -0.21966646\n",
      " -0.21672222 -0.21368164 -0.21054607 -0.2073169  -0.20399557 -0.20058356\n",
      " -0.19708238 -0.19349359 -0.18981878 -0.18605959 -0.18221769 -0.17829479\n",
      " -0.17429262 -0.17021298 -0.16605767 -0.16182854 -0.15752748 -0.15315638\n",
      " -0.1487172  -0.14421191 -0.13964251 -0.13501104 -0.13031954 -0.12557012\n",
      " -0.12076487 -0.11590594 -0.11099549 -0.10603569 -0.10102875 -0.09597691\n",
      " -0.0908824  -0.08574748 -0.08057445 -0.0753656  -0.07012325 -0.06484973\n",
      " -0.05954737 -0.05421855 -0.04886562 -0.04349097 -0.03809699 -0.03268607\n",
      " -0.02726062 -0.02182305 -0.01637578 -0.01092123 -0.00546183  0.        ]\n"
     ]
    }
   ],
   "source": [
    "from qm1.wavefunction import GaussianWavePackage\n",
    "from qm1.eigensystem import Eigensystem\n",
    "\n",
    "if True:\n",
    "  # either choose a eigenstate as initial wf\n",
    "  eigsys = Eigensystem(num=5, operator=op_hamilton.eval(0))\n",
    "  eigsys.show(file='mwe_sourcedrain_eigsys.png')\n",
    "  init_wf = eigsys.eigstates[0]\n",
    "  print(eigsys.eigvals)\n",
    "else:\n",
    "  # or any other wave func\n",
    "  init_wf = GaussianWavePackage(qsys.grid, mu=4, sigma=10, k=.1)\n",
    "\n",
    "init_wf.show(file='mwe_sourcedrain_init_wavefunc.png', absphase=True)\n",
    "print(init_wf.func)\n"
   ]
  },
  {
   "cell_type": "code",
   "execution_count": 5,
   "metadata": {},
   "outputs": [],
   "source": [
    "tdwf = init_wf.evolve(tgrid, op_evolution)\n",
    "\n",
    "# wf = Wavefunction()\n",
    "# for wf in tdwf.wflist:\n",
    "  # print(wf.expectation_value(op_identity))"
   ]
  },
  {
   "cell_type": "code",
   "execution_count": 6,
   "metadata": {},
   "outputs": [
    {
     "name": "stderr",
     "output_type": "stream",
     "text": [
      "/home/ak/code/qm1/qm1/wavefunction.py:293: UserWarning: Attempting to set identical low and high ylims makes transformation singular; automatically expanding.\n",
      "  ax2.set_ylim((pot_min_re, pot_max_re))\n"
     ]
    }
   ],
   "source": [
    "%load_ext autoreload\n",
    "%autoreload 2\n",
    "ani = tdwf.show(tgrid=tgrid, pot=qsys.full_pot, file='mwe_sourcedrain_wavefunc.gif')\n",
    "if False: display(HTML(ani.to_jshtml()))"
   ]
  }
 ],
 "metadata": {
  "kernelspec": {
   "display_name": "Python 3.8.0 64-bit",
   "language": "python",
   "name": "python3"
  },
  "language_info": {
   "codemirror_mode": {
    "name": "ipython",
    "version": 3
   },
   "file_extension": ".py",
   "mimetype": "text/x-python",
   "name": "python",
   "nbconvert_exporter": "python",
   "pygments_lexer": "ipython3",
   "version": "3.8.0"
  },
  "vscode": {
   "interpreter": {
    "hash": "df0893f56f349688326838aaeea0de204df53a132722cbd565e54b24a8fec5f6"
   }
  }
 },
 "nbformat": 4,
 "nbformat_minor": 2
}
