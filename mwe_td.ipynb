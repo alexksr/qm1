{
 "cells": [
  {
   "cell_type": "code",
   "execution_count": 1,
   "metadata": {},
   "outputs": [],
   "source": [
    "from qm1.grid import *\n",
    "from qm1.qmsystem import *  \n",
    "# set up a grid (with vanishing boundary conditions)\n",
    "grid = UniformGrid(boundary_condition=\"periodic\", xmin=-5., xmax=5., num=50)\n",
    "# define potential to use\n",
    "stat_pot = BarrierPot(xstart=-2., xstop=+2., vstep=-1.)\n",
    "# set the quantum mechanical system\n",
    "qsys = QMSystem(stat_pot=stat_pot, grid=grid)\n",
    "# set time domain\n",
    "tgrid=np.linspace(0., 20., 1000)"
   ]
  },
  {
   "cell_type": "code",
   "execution_count": 6,
   "metadata": {},
   "outputs": [
    {
     "name": "stdout",
     "output_type": "stream",
     "text": [
      "<class 'qm1.operators.OperatorConst'>\n",
      "<class 'qm1.operators.OperatorConst'>\n"
     ]
    }
   ],
   "source": [
    "from qm1.operators import *\n",
    "# construct some operators, that act on the wave function\n",
    "op_identity = IdentityOp(qsys.grid)\n",
    "op_position = PositionOp(qsys.grid)\n",
    "op_momentum = MomentumOp(qsys.grid)\n",
    "op_kinetic = KineticOp(qsys)\n",
    "op_stat_pot = StatPotentialOp(qsys)\n",
    "# make the operators more efficient\n",
    "make_efficient([op_identity, op_kinetic, op_position, op_momentum, op_stat_pot])\n",
    "# time dependent potential operator (local) - perturbation\n",
    "op_td_pot = OperatorTD(qsys.grid, DipolTDPot())\n",
    "op_td_pot = OperatorTD(qsys.grid, ZeroTDPot())\n",
    "# potential and hamilton operator\n",
    "op_potential = OperatorTD(qsys.grid)\n",
    "op_potential = op_td_pot + op_stat_pot\n",
    "op_hamilton = op_potential + op_kinetic\n",
    "# hamiltonian at time 0\n",
    "op_hamilton_gs = op_hamilton.eval(t=tgrid[0])\n",
    "print(type(op_hamilton_gs))\n",
    "# show a few operators\n",
    "# return the rhs of the schrödinger equation, when lhs is only the time derivative, rhs = i hbar H\n",
    "op_rhs = OperatorTD(qsys.grid)\n",
    "print(type(op_hamilton_gs))\n",
    "op_rhs += op_hamilton_gs * (-1j)\n",
    "\n",
    "op_td_pot.show(tgrid=tgrid[::10], file='op_td_pot.gif')\n",
    "op_stat_pot.show(file='op_stat_pot.png')\n",
    "op_hamilton.show(tgrid=tgrid[::10], file='op_hamilton.gif')"
   ]
  },
  {
   "cell_type": "code",
   "execution_count": 3,
   "metadata": {},
   "outputs": [
    {
     "data": {
      "text/html": [
       "<div>\n",
       "<style scoped>\n",
       "    .dataframe tbody tr th:only-of-type {\n",
       "        vertical-align: middle;\n",
       "    }\n",
       "\n",
       "    .dataframe tbody tr th {\n",
       "        vertical-align: top;\n",
       "    }\n",
       "\n",
       "    .dataframe thead th {\n",
       "        text-align: right;\n",
       "    }\n",
       "</style>\n",
       "<table border=\"1\" class=\"dataframe\">\n",
       "  <thead>\n",
       "    <tr style=\"text-align: right;\">\n",
       "      <th></th>\n",
       "      <th>op_identity</th>\n",
       "      <th>op_position</th>\n",
       "      <th>op_momentum</th>\n",
       "      <th>op_hamilton_gs</th>\n",
       "    </tr>\n",
       "  </thead>\n",
       "  <tbody>\n",
       "    <tr>\n",
       "      <th>state 0</th>\n",
       "      <td>1.0</td>\n",
       "      <td>-1.242127e-15</td>\n",
       "      <td>0.0</td>\n",
       "      <td>-0.835221</td>\n",
       "    </tr>\n",
       "    <tr>\n",
       "      <th>state 1</th>\n",
       "      <td>1.0</td>\n",
       "      <td>7.160180e-16</td>\n",
       "      <td>0.0</td>\n",
       "      <td>-0.378701</td>\n",
       "    </tr>\n",
       "    <tr>\n",
       "      <th>state 2</th>\n",
       "      <td>1.0</td>\n",
       "      <td>1.088019e-15</td>\n",
       "      <td>0.0</td>\n",
       "      <td>0.043500</td>\n",
       "    </tr>\n",
       "    <tr>\n",
       "      <th>state 3</th>\n",
       "      <td>1.0</td>\n",
       "      <td>1.372236e-14</td>\n",
       "      <td>0.0</td>\n",
       "      <td>0.410592</td>\n",
       "    </tr>\n",
       "    <tr>\n",
       "      <th>state 4</th>\n",
       "      <td>1.0</td>\n",
       "      <td>-8.969908e-15</td>\n",
       "      <td>0.0</td>\n",
       "      <td>0.483808</td>\n",
       "    </tr>\n",
       "    <tr>\n",
       "      <th>state 5</th>\n",
       "      <td>1.0</td>\n",
       "      <td>6.528111e-15</td>\n",
       "      <td>0.0</td>\n",
       "      <td>1.358302</td>\n",
       "    </tr>\n",
       "    <tr>\n",
       "      <th>state 6</th>\n",
       "      <td>1.0</td>\n",
       "      <td>1.966483e-15</td>\n",
       "      <td>0.0</td>\n",
       "      <td>1.416733</td>\n",
       "    </tr>\n",
       "    <tr>\n",
       "      <th>state 7</th>\n",
       "      <td>1.0</td>\n",
       "      <td>-1.708356e-15</td>\n",
       "      <td>0.0</td>\n",
       "      <td>2.669492</td>\n",
       "    </tr>\n",
       "    <tr>\n",
       "      <th>state 8</th>\n",
       "      <td>1.0</td>\n",
       "      <td>1.353584e-13</td>\n",
       "      <td>0.0</td>\n",
       "      <td>2.749653</td>\n",
       "    </tr>\n",
       "    <tr>\n",
       "      <th>state 9</th>\n",
       "      <td>1.0</td>\n",
       "      <td>-1.439231e-11</td>\n",
       "      <td>0.0</td>\n",
       "      <td>4.361140</td>\n",
       "    </tr>\n",
       "  </tbody>\n",
       "</table>\n",
       "</div>"
      ],
      "text/plain": [
       "         op_identity   op_position  op_momentum  op_hamilton_gs\n",
       "state 0          1.0 -1.242127e-15          0.0       -0.835221\n",
       "state 1          1.0  7.160180e-16          0.0       -0.378701\n",
       "state 2          1.0  1.088019e-15          0.0        0.043500\n",
       "state 3          1.0  1.372236e-14          0.0        0.410592\n",
       "state 4          1.0 -8.969908e-15          0.0        0.483808\n",
       "state 5          1.0  6.528111e-15          0.0        1.358302\n",
       "state 6          1.0  1.966483e-15          0.0        1.416733\n",
       "state 7          1.0 -1.708356e-15          0.0        2.669492\n",
       "state 8          1.0  1.353584e-13          0.0        2.749653\n",
       "state 9          1.0 -1.439231e-11          0.0        4.361140"
      ]
     },
     "execution_count": 3,
     "metadata": {},
     "output_type": "execute_result"
    }
   ],
   "source": [
    "from qm1.eigensystem import Eigensystem\n",
    "import pandas\n",
    "eigsys = Eigensystem(qsys=qsys, operator=op_hamilton_gs)\n",
    "eigsys.show('eigensystem.png')\n",
    "obs = eigsys.get_observables([op_identity, op_position, op_momentum, op_hamilton_gs])\n",
    "pandas.DataFrame(np.real(obs[:,:,0]), columns=['op_identity','op_position', 'op_momentum', 'op_hamilton_gs'],  index=['state '+str(_is) for _is in range(eigsys.num)])"
   ]
  },
  {
   "cell_type": "code",
   "execution_count": 4,
   "metadata": {},
   "outputs": [
    {
     "data": {
      "text/html": [
       "<div>\n",
       "<style scoped>\n",
       "    .dataframe tbody tr th:only-of-type {\n",
       "        vertical-align: middle;\n",
       "    }\n",
       "\n",
       "    .dataframe tbody tr th {\n",
       "        vertical-align: top;\n",
       "    }\n",
       "\n",
       "    .dataframe thead th {\n",
       "        text-align: right;\n",
       "    }\n",
       "</style>\n",
       "<table border=\"1\" class=\"dataframe\">\n",
       "  <thead>\n",
       "    <tr style=\"text-align: right;\">\n",
       "      <th></th>\n",
       "      <th>op_identity</th>\n",
       "      <th>op_position</th>\n",
       "      <th>op_momentum</th>\n",
       "      <th>op_hamilton_gs</th>\n",
       "    </tr>\n",
       "  </thead>\n",
       "  <tbody>\n",
       "    <tr>\n",
       "      <th>exp-val</th>\n",
       "      <td>1.0</td>\n",
       "      <td>-1.372560e-17</td>\n",
       "      <td>-0.098998</td>\n",
       "      <td>-0.741754</td>\n",
       "    </tr>\n",
       "    <tr>\n",
       "      <th>variance</th>\n",
       "      <td>0.0</td>\n",
       "      <td>5.000000e-01</td>\n",
       "      <td>0.489938</td>\n",
       "      <td>0.111615</td>\n",
       "    </tr>\n",
       "  </tbody>\n",
       "</table>\n",
       "</div>"
      ],
      "text/plain": [
       "          op_identity   op_position  op_momentum  op_hamilton_gs\n",
       "exp-val           1.0 -1.372560e-17    -0.098998       -0.741754\n",
       "variance          0.0  5.000000e-01     0.489938        0.111615"
      ]
     },
     "execution_count": 4,
     "metadata": {},
     "output_type": "execute_result"
    }
   ],
   "source": [
    "from qm1.wavefunction import GaussianWavePackage\n",
    "init_wf = GaussianWavePackage(qsys.grid, mu=0, sigma=1, k=0.1)\n",
    "init_wf.show('init_wavefunc.png')\n",
    "obs = init_wf.get_observables([op_identity, op_position, op_momentum, op_hamilton_gs])\n",
    "pandas.DataFrame(np.real(obs.transpose()), columns=['op_identity', 'op_position', 'op_momentum', 'op_hamilton_gs'],  index=['exp-val', 'variance'])"
   ]
  },
  {
   "cell_type": "code",
   "execution_count": 7,
   "metadata": {},
   "outputs": [],
   "source": [
    "psis, tgrid = init_wf.evolve(tgrid, op_rhs)"
   ]
  },
  {
   "cell_type": "code",
   "execution_count": null,
   "metadata": {},
   "outputs": [],
   "source": []
  },
  {
   "cell_type": "code",
   "execution_count": 8,
   "metadata": {},
   "outputs": [],
   "source": [
    "def print_evolution(psis, tgrid, file):\n",
    "  import matplotlib.pyplot as plt\n",
    "  from matplotlib.animation import FuncAnimation\n",
    "  fig, ax = plt.subplots(figsize=(10, 10))\n",
    "  ymin = min([np.min(np.abs(_psi.func)**2) for _psi in psis])\n",
    "  ymax = max([np.max(np.abs(_psi.func)**2) for _psi in psis])\n",
    "\n",
    "  def animate(i):\n",
    "    ax.clear()\n",
    "    ax.set_title('evolution of wavefunction')\n",
    "    ax.set_xlabel('position')\n",
    "    ax.set_ylabel('density of the wave function')\n",
    "    ax.set_ylim((ymin, ymax))\n",
    "    line = ax.plot(psis[0].grid.points, np.abs(psis[i].func)**2)\n",
    "    text = ax.text(0.8, 0.9, 'time='+str(tgrid[i]), horizontalalignment='center', verticalalignment='center', transform=ax.transAxes)\n",
    "    return [line, text]\n",
    "  ani = FuncAnimation(fig=fig, func=animate, frames=range(len(psis)), interval=1000./24.)\n",
    "  ani.save(file, writer='imagemagick', fps=24)\n",
    "  plt.close()\n",
    "\n",
    "print_evolution(psis[::10], tgrid, file='wavefunc.gif')"
   ]
  },
  {
   "cell_type": "code",
   "execution_count": null,
   "metadata": {},
   "outputs": [],
   "source": []
  },
  {
   "cell_type": "code",
   "execution_count": null,
   "metadata": {},
   "outputs": [],
   "source": [
    "# Display the animation in the jupyter notebook\n",
    "# HTML(anim.to_jshtml())"
   ]
  }
 ],
 "metadata": {
  "interpreter": {
   "hash": "31f2aee4e71d21fbe5cf8b01ff0e069b9275f58929596ceb00d14d90e3e16cd6"
  },
  "kernelspec": {
   "display_name": "Python 3.6.15 64-bit",
   "name": "python3"
  },
  "language_info": {
   "codemirror_mode": {
    "name": "ipython",
    "version": 3
   },
   "file_extension": ".py",
   "mimetype": "text/x-python",
   "name": "python",
   "nbconvert_exporter": "python",
   "pygments_lexer": "ipython3",
   "version": "3.6.9"
  }
 },
 "nbformat": 4,
 "nbformat_minor": 2
}
