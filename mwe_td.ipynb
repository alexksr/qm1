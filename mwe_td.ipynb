{
 "cells": [
  {
   "cell_type": "code",
   "execution_count": null,
   "metadata": {},
   "outputs": [],
   "source": [
    "from qm1.grid import *\n",
    "from qm1.operators import *\n",
    "from qm1.qmsystem import *  \n",
    "\n",
    "# set up a grid (with vanishing boundary conditions)\n",
    "grid = UniformGrid(boundary_condition=\"vanishing\", xmin=-15., xmax=15., num=150)\n",
    "\n",
    "# set time domain/view\n",
    "tgrid=np.linspace(0., 50., 500)\n",
    "\n",
    "# define potentials to use\n",
    "stat_pot = BarrierPot(xstart=8., xstop=+10., vstep=-10.)\n",
    "# td_pot = DipolTDPot(omega=2*np.pi / tgrid[-1]*10, k=2*2*np.pi/(grid.points[-1]-grid.points[0]), amplitude=1.)\n",
    "td_pot = GrowingBarrierTDPot(xstart=-10., xstop=-2., vstep=-10., tstart=10., tstop=30.)\n",
    "\n",
    "# set the quantum mechanical system\n",
    "qsys = QMSystem(grid=grid, stat_pot=stat_pot, td_pot=td_pot, mass=1.)"
   ]
  },
  {
   "cell_type": "code",
   "execution_count": null,
   "metadata": {},
   "outputs": [],
   "source": [
    "from qm1.operators import *\n",
    "\n",
    "# hamilton operator\n",
    "op_hamilton = HamiltonOp(qsys)\n",
    "\n",
    "# define the ground state hamiltonian to be the one at time t=0\n",
    "op_hamilton_gs = op_hamilton.eval(t=tgrid[0])\n",
    "\n",
    "# return the rhs of the schrödinger equation, when lhs is only the time derivative, rhs = i hbar H\n",
    "op_evolution = op_hamilton * (-1j)\n",
    "\n",
    "# show the operators\n",
    "if False:\n",
    "  op_full_pot = OperatorTD(qsys.grid, qsys.full_pot)\n",
    "  anim_full_pot = op_full_pot.show(tgrid=tgrid, file='tdmwe_op_full_potential.mp4')\n",
    "  anim_hamiltonian = op_hamilton.show(tgrid=tgrid, file='tdmwe_op_hamilton.gif')"
   ]
  },
  {
   "cell_type": "code",
   "execution_count": null,
   "metadata": {},
   "outputs": [],
   "source": [
    "from IPython.display import HTML, display\n",
    "import matplotlib as mpl\n",
    "mpl.rcParams['animation.embed_limit'] = 200  # MB\n",
    "# Display the animation in the jupyter notebook\n",
    "try: HTML(anim_full_pot.to_jshtml())\n",
    "except: pass\n",
    "try: HTML(anim_hamiltonian.to_jshtml())\n",
    "except: pass"
   ]
  },
  {
   "cell_type": "code",
   "execution_count": null,
   "metadata": {},
   "outputs": [],
   "source": [
    "from qm1.wavefunction import GaussianWavePackage\n",
    "from qm1.eigensystem import Eigensystem\n",
    "\n",
    "if True:\n",
    "  # either choose a eigenstate as initial wf\n",
    "  eigsys = Eigensystem(num=5, operator=op_hamilton_gs)\n",
    "  init_wf = eigsys.eigstates[-1] + (1j)*eigsys.eigstates[-2]\n",
    "else:\n",
    "  # or any other wave func\n",
    "  init_wf = GaussianWavePackage(qsys.grid, mu=4, sigma=10, k=.1)\n",
    "\n",
    "init_wf.show(file='tdmwe_init_wavefunc.png', absphase=True)\n"
   ]
  },
  {
   "cell_type": "code",
   "execution_count": null,
   "metadata": {},
   "outputs": [],
   "source": [
    "tdwf = init_wf.evolve(tgrid, op_evolution)"
   ]
  },
  {
   "cell_type": "code",
   "execution_count": 6,
   "metadata": {},
   "outputs": [],
   "source": [
    "%load_ext autoreload\n",
    "%autoreload 2\n",
    "ani = tdwf.show(tgrid=tgrid, pot=qsys.full_pot, file='tdmwe_wavefunc.gif')\n",
    "if False: display(HTML(ani.to_jshtml()))"
   ]
  },
  {
   "cell_type": "code",
   "execution_count": null,
   "metadata": {},
   "outputs": [],
   "source": [
    "from qm1.measurement import Measure\n",
    "from qm1.eigensystem import Eigensystem\n",
    "final_wf = tdwf.wflist[-1]\n",
    "op_position = PositionOp(qsys.grid)\n",
    "m = Measure(op=PositionOp(qsys.grid), num_states=100)\n",
    "m.eigsys.show(file=\"tdmwe_eigensystem.png\")\n",
    "m(init_wf, num_obs=1000)\n",
    "m.show('tdmwe_measure_init_wf.png')\n",
    "m(final_wf, num_obs=1000)\n",
    "m.show(file='tdmwe_measure_final_wf.png')"
   ]
  }
 ],
 "metadata": {
  "kernelspec": {
   "display_name": "Python 3.8.0 64-bit",
   "language": "python",
   "name": "python3"
  },
  "language_info": {
   "codemirror_mode": {
    "name": "ipython",
    "version": 3
   },
   "file_extension": ".py",
   "mimetype": "text/x-python",
   "name": "python",
   "nbconvert_exporter": "python",
   "pygments_lexer": "ipython3",
   "version": "3.8.0"
  },
  "vscode": {
   "interpreter": {
    "hash": "df0893f56f349688326838aaeea0de204df53a132722cbd565e54b24a8fec5f6"
   }
  }
 },
 "nbformat": 4,
 "nbformat_minor": 2
}
