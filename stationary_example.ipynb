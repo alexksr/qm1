{
 "cells": [
  {
   "cell_type": "code",
   "execution_count": 1,
   "metadata": {},
   "outputs": [
    {
     "name": "stdout",
     "output_type": "stream",
     "text": [
      "0.0.0\n",
      "/home/ak/code/btqm1/qm1/__init__.py\n"
     ]
    }
   ],
   "source": [
    "#import packages \n",
    "%matplotlib widget\n",
    "import numpy as np\n",
    "import matplotlib.pyplot as plt\n",
    "from matplotlib import animation\n",
    "from IPython.display import HTML\n",
    "# below is the qm1 package\n",
    "from qm1.grid import *\n",
    "from qm1.operators import *\n",
    "from qm1.qmsystem import *\n",
    "from qm1.eigensystem import *\n",
    "import qm1\n",
    "print(qm1.__version__)\n",
    "print(qm1.__file__)\n"
   ]
  },
  {
   "cell_type": "code",
   "execution_count": null,
   "metadata": {},
   "outputs": [],
   "source": [
    "# ------------------------------------------\n",
    "# simulation grid\n",
    "\n",
    "# [x_min, x_max] is interval the wave function is defined on\n",
    "x_min, x_max = -20., 20.             \n",
    "# number of grid points\n",
    "num = 500                           \n",
    "# set boundary condition\n",
    "# bc = 'open'\n",
    "bc = 'periodic'\n",
    "# bc = 'vanishing'\n",
    "grid = UniformGrid(bc, x_min, x_max, num)\n",
    "\n",
    "# ------------------------------------------\n",
    "# set the mass\n",
    "mass = 1.\n",
    "# remark:\n",
    "# the mass is nothing we can manipulate usually. but in changing the mass here,\n",
    "# some aspects of the time evolution appear more distinct, e.g. the diffusion of a\n",
    "# electron in free space (no potential).\n",
    "# correct default value is 1\n",
    "\n",
    "# ------------------------------------------\n",
    "# choose from different predefined potentials, e.g.\n",
    "potential = DoubleDeltaPot(grid)\n",
    "# or create a sutom potential:\n",
    "def your_custom_potential(x):\n",
    "  \"\"\"user defined potential\"\"\"\n",
    "  your_parameter_1 = np.pi / 15.\n",
    "  your_parameter_2 = np.sin(18)\n",
    "  result = np.sin(x/(x_max-x_min)*np.pi)*your_parameter_1 + your_parameter_2\n",
    "  return result\n",
    "# potential = your_custom_potential\n",
    "\n",
    "# ------------------------------------------\n",
    "# set up the quantum mechanical system\n",
    "qsys = QMSystem(potential, grid, mass)"
   ]
  },
  {
   "cell_type": "code",
   "execution_count": null,
   "metadata": {},
   "outputs": [],
   "source": [
    "# construct some operators, that act on the wave function \n",
    "op_identity = IdentityOp(qsys)\n",
    "op_position = PositionOp(qsys)\n",
    "op_momentum = MomentumOp(qsys)\n",
    "op_hamilton = HamiltonOp(qsys)\n",
    "op_potential= PotentialOp(qsys)\n",
    "# make the operators more efficient\n",
    "make_efficient([op_identity, op_position, op_momentum, op_potential, op_hamilton])"
   ]
  },
  {
   "cell_type": "code",
   "execution_count": null,
   "metadata": {},
   "outputs": [],
   "source": [
    "import pandas\n",
    "from qm1.eigensystem import Eigensystem\n",
    "\n",
    "# number of states to calculate\n",
    "num_states = 10     \n",
    "\n",
    "# get eigensystem \n",
    "eigsys = Eigensystem(num=num_states, operator=op_hamilton)\n",
    "\n",
    "norms, positionExps, positionVars, momenta, energyExps, energyVars = [], [], [], [], [], []\n",
    "for _i in range(num_states):\n",
    "  norms.append(np.real(eigsys.eigstates[_i].expectation_value(op_identity)))\n",
    "  positionExps.append(np.real(eigsys.eigstates[_i].expectation_value(op_position)))\n",
    "  positionVars.append(np.real(eigsys.eigstates[_i].variance(op_position)))\n",
    "  momenta.append(np.real(eigsys.eigstates[_i].expectation_value(op_momentum)))\n",
    "  energyExps.append(np.real(eigsys.eigstates[_i].expectation_value(op_hamilton)))\n",
    "  energyVars.append(np.real(eigsys.eigstates[_i].variance(op_hamilton)))\n",
    "\n",
    "# show the observables\n",
    "pandas.DataFrame(\n",
    "  [norms, positionExps, positionVars, momenta, energyExps, energyVars],\n",
    "  ['norms', 'positionExps', 'positionVars', 'momenta', 'energyExps', 'energyVars'], ['state '+str(_i) for _i in range(num_states)])\n",
    "\n"
   ]
  },
  {
   "cell_type": "code",
   "execution_count": null,
   "metadata": {},
   "outputs": [],
   "source": [
    "\n",
    "# plot ...\n",
    "fig, ax1 = plt.subplots(figsize=(15, 5))\n",
    "fig.subplots_adjust(right=0.6)\n",
    "colors = [plt.cm.tab10(i) for i in range(num_states)]\n",
    "alphas = [((num_states-i)/num_states)**2. for i in range(num_states)]\n",
    "\n",
    "# ... wavefunctions on ax1\n",
    "ax1.set_title('eigenstates of the hamiltonian')\n",
    "ax1.set_xlabel('position')\n",
    "ax1.set_ylabel('wave function')\n",
    "ax1.set_xlim((qsys.grid.xmin, qsys.grid.xmax))\n",
    "for _i, (_eigs, _col, _a) in enumerate(zip(eigsys.eigstates, colors, alphas)):\n",
    "  ax1.plot(qsys.grid.points, _eigs.func, label='state '+str(_i), alpha=_a, color=_col)\n",
    "ax1.legend(loc='center left', bbox_to_anchor=(1.2, 0.5))\n",
    "\n",
    "# ... energy levels and potential on ax2\n",
    "ax2 = ax1.twinx()\n",
    "ax2.set_ylabel('energy scale / potential')\n",
    "ax2.plot(qsys.grid.points, qsys.pot, \"k\")\n",
    "for _energy, _col, _a in zip(energyExps, colors, alphas):\n",
    "  ax2.axhline(_energy, color=_col, alpha=_a, ls='--')\n",
    "\n",
    "plt.plot()\n"
   ]
  }
 ],
 "metadata": {
  "kernelspec": {
   "display_name": "Python 3.6.9 64-bit",
   "language": "python",
   "name": "python3"
  },
  "language_info": {
   "codemirror_mode": {
    "name": "ipython",
    "version": 3
   },
   "file_extension": ".py",
   "mimetype": "text/x-python",
   "name": "python",
   "nbconvert_exporter": "python",
   "pygments_lexer": "ipython3",
   "version": "3.6.9"
  },
  "vscode": {
   "interpreter": {
    "hash": "31f2aee4e71d21fbe5cf8b01ff0e069b9275f58929596ceb00d14d90e3e16cd6"
   }
  }
 },
 "nbformat": 4,
 "nbformat_minor": 2
}
