{
 "cells": [
  {
   "cell_type": "code",
   "execution_count": null,
   "metadata": {},
   "outputs": [],
   "source": [
    "from qm1.grid import *\n",
    "from qm1.operators import ZeroOp\n",
    "from qm1.qmsystem import *  \n",
    "# set up a grid (with vanishing boundary conditions)\n",
    "grid = UniformGrid(boundary_condition=\"vanishing\", xmin=-20., xmax=20., num=200)\n",
    "# define potential to use\n",
    "stat_pot = BarrierPot(xstart=-2., xstop=+10., vstep=-1.)\n",
    "# set the quantum mechanical system\n",
    "qsys = QMSystem(stat_pot=stat_pot, grid=grid, mass=10.)"
   ]
  },
  {
   "cell_type": "code",
   "execution_count": null,
   "metadata": {},
   "outputs": [],
   "source": [
    "from qm1.operators import *\n",
    "# construct some operators\n",
    "op_identity = IdentityOp(qsys.grid)\n",
    "op_position = PositionOp(qsys.grid)\n",
    "op_momentum = MomentumOp(qsys.grid)\n",
    "op_hamilton = HamiltonOp(qsys) # takes the potential directly from `qsys`"
   ]
  },
  {
   "cell_type": "code",
   "execution_count": null,
   "metadata": {},
   "outputs": [],
   "source": [
    "from qm1.eigensystem import Eigensystem\n",
    "import pandas\n",
    "eigsys = Eigensystem(operator=op_hamilton)\n",
    "eigsys.show('mwe_eigensystem.png')\n",
    "obs = eigsys.get_observables([op_identity, op_position, op_momentum, op_hamilton])\n",
    "pandas.DataFrame(np.real(obs[:,:,0]), columns=['op_identity','op_position', 'op_momentum', 'op_hamilton'],  index=['state '+str(_is) for _is in range(eigsys.num)])"
   ]
  },
  {
   "cell_type": "code",
   "execution_count": null,
   "metadata": {},
   "outputs": [],
   "source": [
    "from qm1.wavefunction import GaussianWavePackage\n",
    "prepared_wf = GaussianWavePackage(qsys.grid, mu=0, sigma=1, k=0.1)\n",
    "prepared_wf.show('mwe_init_wavefunc.png')\n",
    "obs = prepared_wf.get_observables([op_identity, op_position, op_momentum, op_hamilton])\n",
    "pandas.DataFrame(np.real(obs.transpose()), columns=['op_identity', 'op_position', 'op_momentum', 'op_hamilton_gs'],  index=['exp-val', 'variance'])"
   ]
  },
  {
   "cell_type": "code",
   "execution_count": null,
   "metadata": {},
   "outputs": [],
   "source": [
    "coeffs, rest = eigsys.decompose(prepared_wf)\n",
    "print(coeffs, rest)"
   ]
  }
 ],
 "metadata": {
  "kernelspec": {
   "display_name": "Python 3.8.0 64-bit",
   "language": "python",
   "name": "python3"
  },
  "language_info": {
   "codemirror_mode": {
    "name": "ipython",
    "version": 3
   },
   "file_extension": ".py",
   "mimetype": "text/x-python",
   "name": "python",
   "nbconvert_exporter": "python",
   "pygments_lexer": "ipython3",
   "version": "3.8.0"
  },
  "vscode": {
   "interpreter": {
    "hash": "df0893f56f349688326838aaeea0de204df53a132722cbd565e54b24a8fec5f6"
   }
  }
 },
 "nbformat": 4,
 "nbformat_minor": 2
}
