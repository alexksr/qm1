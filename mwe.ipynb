{
 "cells": [
  {
   "cell_type": "code",
   "execution_count": 1,
   "metadata": {},
   "outputs": [],
   "source": [
    "from qm1.grid import *\n",
    "from qm1.qmsystem import *"
   ]
  },
  {
   "cell_type": "code",
   "execution_count": 2,
   "metadata": {},
   "outputs": [],
   "source": [
    "# set up a grid (with vanishing boundary conditions)\n",
    "grid = UniformGrid(boundary_condition=\"vanishing\", xmin=-20., xmax=20., num=250)\n",
    "# define potential to use\n",
    "potential = BarrierPot(xstart=-1., xstop=+2., vstep=-1.)\n",
    "# set the quantum mechanical system\n",
    "qsys = QMSystem(potential, grid)"
   ]
  },
  {
   "cell_type": "code",
   "execution_count": 3,
   "metadata": {},
   "outputs": [],
   "source": [
    "from qm1.operators import *\n",
    "# get predefined operators that act on the wave function\n",
    "op_identity = IdentityOp(qsys.grid)\n",
    "op_position = PositionOp(qsys.grid)\n",
    "op_momentum = MomentumOp(qsys.grid)\n",
    "op_hamilton = HamiltonOp(qsys)\n",
    "op_potential= PotentialOp(qsys)\n",
    "# make the operators more efficient\n",
    "make_efficient([op_identity, op_position, op_momentum, op_potential, op_hamilton])"
   ]
  },
  {
   "cell_type": "code",
   "execution_count": 4,
   "metadata": {},
   "outputs": [
    {
     "ename": "TypeError",
     "evalue": "__init__() missing 1 required positional argument: 'qsys'",
     "output_type": "error",
     "traceback": [
      "\u001b[0;31m---------------------------------------------------------------------------\u001b[0m",
      "\u001b[0;31mTypeError\u001b[0m                                 Traceback (most recent call last)",
      "\u001b[0;32m<ipython-input-4-eefff2ee550e>\u001b[0m in \u001b[0;36m<module>\u001b[0;34m\u001b[0m\n\u001b[1;32m      4\u001b[0m \u001b[0;31m# compute 10 eigenstates of the Hamiltonian\u001b[0m\u001b[0;34m\u001b[0m\u001b[0;34m\u001b[0m\u001b[0;34m\u001b[0m\u001b[0m\n\u001b[1;32m      5\u001b[0m \u001b[0mnum_states\u001b[0m \u001b[0;34m=\u001b[0m \u001b[0;36m10\u001b[0m\u001b[0;34m\u001b[0m\u001b[0;34m\u001b[0m\u001b[0m\n\u001b[0;32m----> 6\u001b[0;31m \u001b[0meigsys\u001b[0m \u001b[0;34m=\u001b[0m \u001b[0mEigensystem\u001b[0m\u001b[0;34m(\u001b[0m\u001b[0moperator\u001b[0m\u001b[0;34m=\u001b[0m\u001b[0mop_hamilton\u001b[0m\u001b[0;34m)\u001b[0m\u001b[0;34m\u001b[0m\u001b[0;34m\u001b[0m\u001b[0m\n\u001b[0m\u001b[1;32m      7\u001b[0m \u001b[0meigsys\u001b[0m\u001b[0;34m.\u001b[0m\u001b[0mshow\u001b[0m\u001b[0;34m(\u001b[0m\u001b[0;34m'eigensystem.png'\u001b[0m\u001b[0;34m)\u001b[0m\u001b[0;34m\u001b[0m\u001b[0;34m\u001b[0m\u001b[0m\n\u001b[1;32m      8\u001b[0m \u001b[0;31m# survey their observables\u001b[0m\u001b[0;34m\u001b[0m\u001b[0;34m\u001b[0m\u001b[0;34m\u001b[0m\u001b[0m\n",
      "\u001b[0;31mTypeError\u001b[0m: __init__() missing 1 required positional argument: 'qsys'"
     ]
    }
   ],
   "source": [
    "from qm1.eigensystem import Eigensystem\n",
    "import pandas\n",
    "\n",
    "# compute 10 eigenstates of the Hamiltonian\n",
    "num_states = 10\n",
    "eigsys = Eigensystem(qsys=qmsys, operator=op_hamilton)\n",
    "eigsys.show('eigensystem.png')\n",
    "# survey their observables\n",
    "norms, positionExps, positionVars, momenta, energyExps, energyVars = [], [], [], [], [], []\n",
    "for _i in range(num_states):\n",
    "  norms.append(np.real(eigsys.eigstates[_i].expectation_value(op_identity)))\n",
    "  positionExps.append(np.real(eigsys.eigstates[_i].expectation_value(op_position)))\n",
    "  positionVars.append(np.real(eigsys.eigstates[_i].variance(op_position)))\n",
    "  momenta.append(np.real(eigsys.eigstates[_i].expectation_value(op_momentum)))\n",
    "  energyExps.append(np.real(eigsys.eigstates[_i].expectation_value(op_hamilton)))\n",
    "  energyVars.append(np.real(eigsys.eigstates[_i].variance(op_hamilton)))\n",
    "\n",
    "pandas.DataFrame([norms, positionExps, positionVars, momenta, energyExps, energyVars], ['norms','positions', 'positionVars', 'momenta', 'energies', 'energyVars'], range(num_states))"
   ]
  },
  {
   "cell_type": "code",
   "execution_count": null,
   "metadata": {},
   "outputs": [],
   "source": [
    "import matplotlib.pyplot as plt# plot ...\n",
    "fig, ax1 = plt.subplots(figsize=(15,5))\n",
    "fig.subplots_adjust(right=0.6)\n",
    "colors = [plt.cm.tab10(i) for i in range(num_states)]\n",
    "alphas = [ ((num_states-i)/num_states)**2. for i in range(num_states)]\n",
    "\n",
    "# ... wavefunctions on ax1\n",
    "ax1.set_title('eigenstates of the hamiltonian')\n",
    "ax1.set_xlabel('position')\n",
    "ax1.set_ylabel('wave function')\n",
    "ax1.set_xlim((qsys.grid.xmin, qsys.grid.xmax))\n",
    "for _i, (_eigs, _col, _a) in enumerate(zip(eigsys.eigstates, colors, alphas)):\n",
    "  ax1.plot(qsys.grid.points, _eigs.func, label='state '+str(_i), alpha=_a, color=_col)\n",
    "ax1.legend(loc='center left', bbox_to_anchor=(1.2, 0.5))\n",
    "\n",
    "# ... energy levels and potential on ax2\n",
    "ax2 = ax1.twinx()\n",
    "ax2.set_ylabel('energy scale / potential')\n",
    "ax2.plot(qsys.grid.points, qsys.pot, \"k\")\n",
    "for _energy, _col, _a in zip(energyExps, colors, alphas):\n",
    "  ax2.axhline(_energy, color=_col, alpha=_a, ls='--')\n",
    "\n",
    "plt.plot()"
   ]
  }
 ],
 "metadata": {
  "interpreter": {
   "hash": "31f2aee4e71d21fbe5cf8b01ff0e069b9275f58929596ceb00d14d90e3e16cd6"
  },
  "kernelspec": {
   "display_name": "Python 3.6.15 64-bit",
   "name": "python3"
  },
  "language_info": {
   "codemirror_mode": {
    "name": "ipython",
    "version": 3
   },
   "file_extension": ".py",
   "mimetype": "text/x-python",
   "name": "python",
   "nbconvert_exporter": "python",
   "pygments_lexer": "ipython3",
   "version": "3.6.9"
  }
 },
 "nbformat": 4,
 "nbformat_minor": 2
}
